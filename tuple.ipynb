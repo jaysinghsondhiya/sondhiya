{
 "cells": [
  {
   "cell_type": "markdown",
   "id": "8d1df739-7282-48ed-ac27-468b5eb74306",
   "metadata": {},
   "source": [
    "details about tuple\n"
   ]
  },
  {
   "cell_type": "markdown",
   "id": "79cbe8e0-eee0-4438-a285-cd800a5f2d96",
   "metadata": {},
   "source": [
    "  creating a tuple "
   ]
  },
  {
   "cell_type": "code",
   "execution_count": 6,
   "id": "d00eafe8-22b7-4a50-b21f-e2b7f782ced3",
   "metadata": {},
   "outputs": [
    {
     "name": "stdout",
     "output_type": "stream",
     "text": [
      "(1, 2, 3)\n",
      "<class 'tuple'>\n"
     ]
    }
   ],
   "source": [
    "mytuple=(1,2,3)\n",
    "print(mytuple)\n",
    "print(type(mytuple))"
   ]
  },
  {
   "cell_type": "markdown",
   "id": "a41e0830-ab6f-456f-9503-4f1ebfd09842",
   "metadata": {},
   "source": [
    "mixed data type tuple "
   ]
  },
  {
   "cell_type": "code",
   "execution_count": 7,
   "id": "285e5693-4f45-4c59-9dc2-4e8ec06efdcf",
   "metadata": {},
   "outputs": [
    {
     "name": "stdout",
     "output_type": "stream",
     "text": [
      "(1, 'name', 4.5, (4+5j))\n",
      "<class 'tuple'>\n"
     ]
    }
   ],
   "source": [
    "newtup=(1,\"name\",4.5,4+5j)\n",
    "print(newtup)\n",
    "print(type(newtup))"
   ]
  },
  {
   "cell_type": "markdown",
   "id": "853cb318-daee-4434-b61a-3735e51c918b",
   "metadata": {},
   "source": [
    "nested tuple"
   ]
  },
  {
   "cell_type": "code",
   "execution_count": 8,
   "id": "ec791f33-6723-4be2-9dd2-470f88407178",
   "metadata": {},
   "outputs": [
    {
     "name": "stdout",
     "output_type": "stream",
     "text": [
      "('data', ['1,2,3'], (7, 6, 8))\n",
      "<class 'tuple'>\n"
     ]
    }
   ],
   "source": [
    "a=(\"data\",[\"1,2,3\"],(7,6,8))\n",
    "print(a)\n",
    "print(type(a))"
   ]
  },
  {
   "cell_type": "markdown",
   "id": "db3f4f1a-1994-49c4-8f13-e2f8fcc4f8c1",
   "metadata": {},
   "source": [
    "tuple constructor"
   ]
  },
  {
   "cell_type": "code",
   "execution_count": 11,
   "id": "dd524d23-90d8-48d9-96f2-e0a69074e351",
   "metadata": {},
   "outputs": [
    {
     "name": "stdout",
     "output_type": "stream",
     "text": [
      "('a', 'b', 'c')\n",
      "<class 'tuple'>\n"
     ]
    }
   ],
   "source": [
    "a = tuple((\"a\",\"b\",\"c\"))\n",
    "print(a)\n",
    "print(type(a))"
   ]
  },
  {
   "cell_type": "markdown",
   "id": "ee96608f-558f-4f44-9acb-80654db82758",
   "metadata": {},
   "source": [
    "indexing in tuple "
   ]
  },
  {
   "cell_type": "code",
   "execution_count": 16,
   "id": "c17b6728-4ee2-485a-a935-97144632b59e",
   "metadata": {},
   "outputs": [
    {
     "name": "stdout",
     "output_type": "stream",
     "text": [
      "20\n"
     ]
    }
   ],
   "source": [
    "a=(10,20,20,40,60,\"data\")\n",
    "print (a[-4])"
   ]
  },
  {
   "cell_type": "markdown",
   "id": "e104ba14-8281-4f03-b8ca-7f0d1371b691",
   "metadata": {},
   "source": [
    "slicing in tuple"
   ]
  },
  {
   "cell_type": "code",
   "execution_count": 19,
   "id": "71e21ff7-9fa1-4da6-b06f-3e025769eafa",
   "metadata": {},
   "outputs": [
    {
     "name": "stdout",
     "output_type": "stream",
     "text": [
      "(34, 56, 66)\n"
     ]
    }
   ],
   "source": [
    "a=(12,34,56,66,78,99,37,78,88,89,90)\n",
    "print(a[1:4])"
   ]
  },
  {
   "cell_type": "code",
   "execution_count": 20,
   "id": "a9c98a32-cbc4-4c8d-a6b9-24f072cb8b91",
   "metadata": {},
   "outputs": [
    {
     "name": "stdout",
     "output_type": "stream",
     "text": [
      "(34, 99, 89)\n"
     ]
    }
   ],
   "source": [
    "a=(12,34,56,66,78,99,37,78,88,89,90)\n",
    "print(a[1::4])"
   ]
  },
  {
   "cell_type": "markdown",
   "id": "30d34eb8-07df-4759-8674-89b3bf6c3fbe",
   "metadata": {},
   "source": [
    "reversing a tuple in python"
   ]
  },
  {
   "cell_type": "code",
   "execution_count": 22,
   "id": "95acc75a-a226-4330-9b42-26e994fb3b34",
   "metadata": {},
   "outputs": [
    {
     "name": "stdout",
     "output_type": "stream",
     "text": [
      "(90, 89, 88, 78, 37, 99, 78, 66, 56, 34, 12)\n"
     ]
    }
   ],
   "source": [
    "a=(12,34,56,66,78,99,37,78,88,89,90)\n",
    "print(a[::-1])"
   ]
  },
  {
   "cell_type": "markdown",
   "id": "ea193f24-fbc1-4892-8ff2-afe95f1ac2ad",
   "metadata": {},
   "source": [
    "how can we insert a element in the tuple"
   ]
  },
  {
   "cell_type": "code",
   "execution_count": 27,
   "id": "0c6490a7-3a4a-46e9-b1d4-fcf94e0bcd8f",
   "metadata": {},
   "outputs": [
    {
     "name": "stdout",
     "output_type": "stream",
     "text": [
      "[12, 34, 56, 66, 78, 99, 37, 78, 88, 89, 90]\n",
      "<class 'list'>\n",
      "(12, 34, 56, 66, 78, 99, 37, 78, 88, 89, 90, 609)\n",
      "<class 'tuple'>\n"
     ]
    }
   ],
   "source": [
    "a=(12,34,56,66,78,99,37,78,88,89,90)\n",
    "b= list(a)\n",
    "print(b)\n",
    "print(type(b))\n",
    "b.append(609)\n",
    "a=tuple(b)\n",
    "print(a)\n",
    "print (type(a))"
   ]
  },
  {
   "cell_type": "code",
   "execution_count": 28,
   "id": "6824e946-b386-4eb1-9d08-7b21e8755b48",
   "metadata": {},
   "outputs": [
    {
     "name": "stdout",
     "output_type": "stream",
     "text": [
      "[12, 34, 56, 66, 78, 99, 37, 78, 88, 89, 90]\n",
      "<class 'list'>\n",
      "(12, 34, 56, 66, 78, 99, 37, 78, 89, 90)\n",
      "<class 'tuple'>\n"
     ]
    }
   ],
   "source": [
    "a=(12,34,56,66,78,99,37,78,88,89,90)\n",
    "b= list(a)\n",
    "print(b)\n",
    "print(type(b))\n",
    "b.remove(88)\n",
    "a=tuple(b)\n",
    "print(a)\n",
    "print (type(a))"
   ]
  },
  {
   "cell_type": "markdown",
   "id": "3576e2c5-bc8c-494a-8839-1b2db83f9a96",
   "metadata": {},
   "source": [
    "loop in tuple "
   ]
  },
  {
   "cell_type": "code",
   "execution_count": 31,
   "id": "1042690c-ba02-44b9-a36d-e4016c8c86ba",
   "metadata": {},
   "outputs": [
    {
     "name": "stdout",
     "output_type": "stream",
     "text": [
      "23\n",
      "45\n",
      "67\n",
      "78\n"
     ]
    }
   ],
   "source": [
    "tuple =(23,45,67,78)\n",
    "for i in tuple:\n",
    "    print(i)"
   ]
  },
  {
   "cell_type": "markdown",
   "id": "acd826fa-68af-4397-bb4f-7b95c0723d33",
   "metadata": {},
   "source": [
    "joint two tuple \n",
    "\n"
   ]
  },
  {
   "cell_type": "code",
   "execution_count": 32,
   "id": "b9f031e7-ebe6-4273-96a6-2c6e72389466",
   "metadata": {},
   "outputs": [
    {
     "name": "stdout",
     "output_type": "stream",
     "text": [
      "(23, 45, 67, 78, 93, 95, 67, 76)\n"
     ]
    }
   ],
   "source": [
    "tuple1 =(23,45,67,78)\n",
    "tuple2 =(93,95,67,76)\n",
    "tuple3= (tuple1+tuple2)\n",
    "print(tuple3)\n"
   ]
  },
  {
   "cell_type": "markdown",
   "id": "01486f22-4e8a-40e8-8c52-82961f10a87d",
   "metadata": {},
   "source": [
    "multply two tuple"
   ]
  },
  {
   "cell_type": "code",
   "execution_count": 37,
   "id": "994bc5b3-4ce4-4113-a6a0-0a6fbec32795",
   "metadata": {},
   "outputs": [
    {
     "name": "stdout",
     "output_type": "stream",
     "text": [
      "(23, 78, 23, 78)\n",
      "(23, 78, 23, 78, 23, 78, 23, 78, 23, 78, 23, 78)\n"
     ]
    }
   ],
   "source": [
    "tuple1 =(23,78)\n",
    "t2 = tuple1*2\n",
    "print(t2)\n",
    "print(t2+t2+t2)\n"
   ]
  },
  {
   "cell_type": "code",
   "execution_count": null,
   "id": "622f6b70-2c42-44d3-a331-3b881ff33616",
   "metadata": {},
   "outputs": [],
   "source": []
  }
 ],
 "metadata": {
  "kernelspec": {
   "display_name": "Python 3 (ipykernel)",
   "language": "python",
   "name": "python3"
  },
  "language_info": {
   "codemirror_mode": {
    "name": "ipython",
    "version": 3
   },
   "file_extension": ".py",
   "mimetype": "text/x-python",
   "name": "python",
   "nbconvert_exporter": "python",
   "pygments_lexer": "ipython3",
   "version": "3.12.4"
  }
 },
 "nbformat": 4,
 "nbformat_minor": 5
}
